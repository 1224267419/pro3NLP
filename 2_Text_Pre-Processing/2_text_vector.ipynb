{
 "cells": [
  {
   "cell_type": "code",
   "id": "initial_id",
   "metadata": {
    "collapsed": true,
    "ExecuteTime": {
     "end_time": "2025-03-14T12:57:01.564859Z",
     "start_time": "2025-03-14T12:57:01.560966Z"
    }
   },
   "source": "import fasttext",
   "outputs": [],
   "execution_count": 2
  },
  {
   "metadata": {
    "ExecuteTime": {
     "end_time": "2025-03-14T13:27:55.907967Z",
     "start_time": "2025-03-14T12:57:01.605738Z"
    }
   },
   "cell_type": "code",
   "source": "model=fasttext.train_unsupervised('./data/fil9')",
   "id": "71f07f10f8c36bbf",
   "outputs": [],
   "execution_count": 3
  },
  {
   "metadata": {},
   "cell_type": "markdown",
   "source": "",
   "id": "35daa361f26d4f31"
  },
  {
   "metadata": {
    "ExecuteTime": {
     "end_time": "2025-03-14T13:54:00.607770Z",
     "start_time": "2025-03-14T13:54:00.595122Z"
    }
   },
   "cell_type": "code",
   "outputs": [
    {
     "data": {
      "text/plain": [
       "array([ 2.89364070e-01,  1.77864328e-01,  1.84947506e-01, -1.91353470e-01,\n",
       "       -6.85091550e-03,  8.84629041e-02, -3.48903358e-01,  2.33100150e-02,\n",
       "       -4.82582122e-01, -4.86519448e-02, -2.73373239e-02,  3.23348612e-01,\n",
       "       -3.29242162e-02,  1.72753425e-04,  1.48680046e-01,  2.36131206e-01,\n",
       "       -8.84235278e-02,  1.44065142e-01,  2.95687672e-02,  3.20208780e-02,\n",
       "       -2.78993025e-02, -1.03978075e-01,  3.29683542e-01, -3.13654095e-02,\n",
       "       -2.66799773e-03, -6.83646798e-02,  2.67989129e-01,  9.82467160e-02,\n",
       "       -1.97436541e-01,  1.05177477e-01, -2.38950640e-01, -1.24721512e-01,\n",
       "        9.55855027e-02, -1.75014094e-01, -5.68585917e-02,  4.06807177e-02,\n",
       "       -2.54776716e-01,  1.14642419e-01, -1.95442196e-02,  4.83076811e-01,\n",
       "        8.93410668e-02,  2.08919615e-01,  4.42304134e-01, -1.10920854e-01,\n",
       "        1.89025924e-01, -7.77853876e-02, -8.76592025e-02, -2.23605722e-01,\n",
       "       -2.37839573e-04, -3.22149321e-02,  2.67712712e-01, -1.08600214e-01,\n",
       "        4.46565188e-02,  1.34282827e-01, -2.91884869e-01, -1.60942983e-03,\n",
       "       -4.48954813e-02, -2.55007654e-01,  1.33117422e-01,  3.32460880e-01,\n",
       "       -3.52165103e-01,  1.64245248e-01,  3.26334536e-01,  2.08227307e-01,\n",
       "       -4.91791815e-02,  2.20537663e-01, -5.79884835e-02, -5.37972748e-02,\n",
       "        4.44991961e-02, -7.69877434e-02,  4.69840020e-02, -8.19470733e-02,\n",
       "        1.09185085e-01, -6.18068203e-02, -1.72383338e-02,  2.70060241e-01,\n",
       "       -1.24668159e-01,  2.91161034e-02, -2.25755453e-01,  8.45932290e-02,\n",
       "        1.74362525e-01,  5.26115149e-02,  8.29900727e-02, -6.18513823e-02,\n",
       "        6.21313378e-02,  7.50023127e-02,  1.62639484e-01, -3.46636802e-01,\n",
       "       -1.71232745e-02,  3.47223312e-01,  2.56651372e-01,  9.08435434e-02,\n",
       "        7.60679618e-02, -2.85338014e-02, -1.18247904e-01, -5.24102747e-01,\n",
       "       -1.03757478e-01,  8.54037628e-02,  1.77399144e-01,  1.41020678e-02],\n",
       "      dtype=float32)"
      ]
     },
     "execution_count": 4,
     "metadata": {},
     "output_type": "execute_result"
    }
   ],
   "execution_count": 4,
   "source": "model.get_word_vector('the')",
   "id": "246941d5129725ec"
  },
  {
   "metadata": {
    "ExecuteTime": {
     "end_time": "2025-03-14T13:55:48.005254Z",
     "start_time": "2025-03-14T13:55:47.052181Z"
    }
   },
   "cell_type": "code",
   "outputs": [],
   "execution_count": 6,
   "source": "model.save_model('./data/fil9_model.bin')",
   "id": "8ae348116f667e79"
  },
  {
   "metadata": {},
   "cell_type": "markdown",
   "source": [
    " 在训练词向量过程中, 我们可以设定很多常⽤超参数来调节我们的模型效果, 如:\n",
    " ⽆监督训练模式: 'skipgram' 或者 'cbow', 默认为'skipgram', 在实践中，skipgram模式\n",
    "在利⽤⼦词⽅⾯⽐cbow更好.\n",
    " 词嵌⼊维度dim: 默认为100, 但随着语料库的增⼤, 词嵌⼊的维度往往也要更⼤.\n",
    " 数据循环次数epoch: 默认为5, 但当你的数据集⾜够⼤, 可能不需要那么多次.\n",
    " 学习率lr: 默认为0.05, 根据经验, 建议选择[0.01，1]范围内."
   ],
   "id": "5cc1c6f01dc40c3b"
  },
  {
   "metadata": {},
   "cell_type": "code",
   "outputs": [],
   "execution_count": null,
   "source": "model2=fasttext.train_unsupervised('./data/fil9',model='cbow',dim=200,epoch=10,lr=0.1) #可以设定这些超参数",
   "id": "953f5b2240d80e6a"
  },
  {
   "metadata": {},
   "cell_type": "markdown",
   "source": "检测但词向量质量时,可以查看其临近单词是否与之相关",
   "id": "ea006b3c29685e1"
  },
  {
   "metadata": {
    "ExecuteTime": {
     "end_time": "2025-03-14T14:10:14.469072Z",
     "start_time": "2025-03-14T14:10:12.426292Z"
    }
   },
   "cell_type": "code",
   "source": "model.get_nearest_neighbors('sport')",
   "id": "fdd28129579b7c81",
   "outputs": [
    {
     "data": {
      "text/plain": [
       "[(0.8478283882141113, 'sports'),\n",
       " (0.832535445690155, 'sporting'),\n",
       " (0.7925522327423096, 'racing'),\n",
       " (0.7923852801322937, 'bobsledding'),\n",
       " (0.7865792512893677, 'bobsleigh'),\n",
       " (0.7810502648353577, 'competitions'),\n",
       " (0.7692157030105591, 'motorsport'),\n",
       " (0.7669541239738464, 'motocross'),\n",
       " (0.7651388049125671, 'motorsports'),\n",
       " (0.7541767358779907, 'triathlon')]"
      ]
     },
     "execution_count": 8,
     "metadata": {},
     "output_type": "execute_result"
    }
   ],
   "execution_count": 8
  },
  {
   "metadata": {
    "ExecuteTime": {
     "end_time": "2025-03-14T14:10:46.854478Z",
     "start_time": "2025-03-14T14:10:46.823144Z"
    }
   },
   "cell_type": "code",
   "source": "model.get_nearest_neighbors('dog')",
   "id": "cdaae2956b16e780",
   "outputs": [
    {
     "data": {
      "text/plain": [
       "[(0.852090060710907, 'dogs'),\n",
       " (0.8093134760856628, 'sheepdogs'),\n",
       " (0.8048607110977173, 'sheepdog'),\n",
       " (0.7886252403259277, 'deerhound'),\n",
       " (0.7821069359779358, 'hound'),\n",
       " (0.7755637764930725, 'coonhounds'),\n",
       " (0.7729554772377014, 'coonhound'),\n",
       " (0.769146203994751, 'wolfhound'),\n",
       " (0.766281247138977, 'breed'),\n",
       " (0.7590345740318298, 'bloodhound')]"
      ]
     },
     "execution_count": 9,
     "metadata": {},
     "output_type": "execute_result"
    }
   ],
   "execution_count": 9
  },
  {
   "metadata": {},
   "cell_type": "markdown",
   "source": "保存模型",
   "id": "aa9ca867b3cf3c9b"
  },
  {
   "metadata": {
    "ExecuteTime": {
     "end_time": "2025-03-14T14:15:18.051053Z",
     "start_time": "2025-03-14T14:15:16.982009Z"
    }
   },
   "cell_type": "code",
   "source": "model.save_model('./data/fil9_model.bin')",
   "id": "e987b4430dcbf11d",
   "outputs": [],
   "execution_count": 10
  },
  {
   "metadata": {},
   "cell_type": "markdown",
   "source": "加载模型",
   "id": "8cf15ed785d562ab"
  },
  {
   "metadata": {
    "ExecuteTime": {
     "end_time": "2025-03-14T14:16:06.804971Z",
     "start_time": "2025-03-14T14:16:05.360085Z"
    }
   },
   "cell_type": "code",
   "source": "model2=fasttext.load_model('./data/fil9_model.bin')",
   "id": "ef898b39553c8146",
   "outputs": [
    {
     "name": "stderr",
     "output_type": "stream",
     "text": [
      "Warning : `load_model` does not return WordVectorModel or SupervisedModel any more, but a `FastText` object which is very similar.\n"
     ]
    }
   ],
   "execution_count": 11
  },
  {
   "metadata": {
    "ExecuteTime": {
     "end_time": "2025-03-14T14:17:23.824910Z",
     "start_time": "2025-03-14T14:17:21.761156Z"
    }
   },
   "cell_type": "code",
   "source": "model2.get_nearest_neighbors('sport')",
   "id": "23e7743af78febae",
   "outputs": [
    {
     "data": {
      "text/plain": [
       "[(0.8478283882141113, 'sports'),\n",
       " (0.832535445690155, 'sporting'),\n",
       " (0.7925522327423096, 'racing'),\n",
       " (0.7923852801322937, 'bobsledding'),\n",
       " (0.7865792512893677, 'bobsleigh'),\n",
       " (0.7810502648353577, 'competitions'),\n",
       " (0.7692157030105591, 'motorsport'),\n",
       " (0.7669541239738464, 'motocross'),\n",
       " (0.7651388049125671, 'motorsports'),\n",
       " (0.7541767358779907, 'triathlon')]"
      ]
     },
     "execution_count": 12,
     "metadata": {},
     "output_type": "execute_result"
    }
   ],
   "execution_count": 12
  },
  {
   "metadata": {
    "ExecuteTime": {
     "end_time": "2025-03-14T14:19:56.187468Z",
     "start_time": "2025-03-14T14:19:56.183577Z"
    }
   },
   "cell_type": "code",
   "source": "# 读取的模型和之前的一致",
   "id": "47ad05f861355717",
   "outputs": [],
   "execution_count": 13
  },
  {
   "metadata": {},
   "cell_type": "code",
   "outputs": [],
   "execution_count": null,
   "source": "",
   "id": "4c5f1a1ff08f3d96"
  }
 ],
 "metadata": {
  "kernelspec": {
   "display_name": "Python 3",
   "language": "python",
   "name": "python3"
  },
  "language_info": {
   "codemirror_mode": {
    "name": "ipython",
    "version": 2
   },
   "file_extension": ".py",
   "mimetype": "text/x-python",
   "name": "python",
   "nbconvert_exporter": "python",
   "pygments_lexer": "ipython2",
   "version": "2.7.6"
  }
 },
 "nbformat": 4,
 "nbformat_minor": 5
}
